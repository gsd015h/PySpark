{
 "cells": [
  {
   "cell_type": "markdown",
   "metadata": {},
   "source": [
    "#### What is spark?\n",
    "---\n",
    "Spark is a fast, in-memory data processing engine that is designed to handle large-scale data processing tasks, such as data aggregation, filtering, and transformation. It is built on top of the Hadoop ecosystem.\n",
    "\n",
    "It Supports widly used programming language such as \n",
    "1. Scala\n",
    "2. Python\n",
    "3. java\n",
    "4. R\n",
    "\n",
    "It processes data in memory(RAM) which makes it 100 times faster than Hadoop MAP Reduce. It is widely used in data science and machine learning applications.\n",
    "\n",
    "- Following represents spark components on High level\n",
    "1. Low Level API -  RDD Distributed Vriables\n",
    "2. Structured API - DataFrame, Datasets and SQL\n",
    "3. Libraries and Ecosystem, Structured Streeming and Advance Analytics"
   ]
  },
  {
   "cell_type": "code",
   "execution_count": null,
   "metadata": {},
   "outputs": [],
   "source": []
  },
  {
   "cell_type": "code",
   "execution_count": null,
   "metadata": {},
   "outputs": [],
   "source": []
  },
  {
   "cell_type": "code",
   "execution_count": null,
   "metadata": {},
   "outputs": [],
   "source": []
  },
  {
   "cell_type": "code",
   "execution_count": null,
   "metadata": {},
   "outputs": [],
   "source": []
  },
  {
   "cell_type": "code",
   "execution_count": null,
   "metadata": {},
   "outputs": [],
   "source": []
  }
 ],
 "metadata": {
  "kernelspec": {
   "display_name": ".venv",
   "language": "python",
   "name": "python3"
  },
  "language_info": {
   "name": "python",
   "version": "3.11.1"
  }
 },
 "nbformat": 4,
 "nbformat_minor": 2
}
